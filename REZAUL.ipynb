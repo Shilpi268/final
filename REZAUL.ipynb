{
 "cells": [
  {
   "cell_type": "code",
   "execution_count": 5,
   "id": "119def71-2103-43cf-a0c5-22caabe7b336",
   "metadata": {},
   "outputs": [
    {
     "name": "stdout",
     "output_type": "stream",
     "text": [
      "Student info is updated succesfully\n",
      "Insert a new student: press 1\n",
      " Show full database: press 2\n",
      " Edit a student marks: press 3\n",
      " Search a student marks: press 4\n",
      " Remove a student: press 5\n",
      " Exit from the system: press 6\n"
     ]
    },
    {
     "name": "stdin",
     "output_type": "stream",
     "text": [
      "Enter an option 1\n",
      "Enter a student name sidid\n",
      "Enter his mark 44\n"
     ]
    },
    {
     "name": "stdout",
     "output_type": "stream",
     "text": [
      "Student data added successfully\n"
     ]
    },
    {
     "name": "stdin",
     "output_type": "stream",
     "text": [
      "Enter an option 1\n",
      "Enter a student name Pias\n",
      "Enter his mark 33\n"
     ]
    },
    {
     "name": "stdout",
     "output_type": "stream",
     "text": [
      "Student data added successfully\n"
     ]
    },
    {
     "name": "stdin",
     "output_type": "stream",
     "text": [
      "Enter an option 1\n",
      "Enter a student name Ushno\n",
      "Enter his mark 77\n"
     ]
    },
    {
     "name": "stdout",
     "output_type": "stream",
     "text": [
      "Student data added successfully\n"
     ]
    },
    {
     "name": "stdin",
     "output_type": "stream",
     "text": [
      "Enter an option 1\n",
      "Enter a student name rinki\n",
      "Enter his mark 89\n"
     ]
    },
    {
     "name": "stdout",
     "output_type": "stream",
     "text": [
      "Student data added successfully\n"
     ]
    },
    {
     "name": "stdin",
     "output_type": "stream",
     "text": [
      "Enter an option 6\n"
     ]
    }
   ],
   "source": [
    "#database= [[\"shakil\", 60], [\"abu bakar\", 40], , [\"atiqur\", 50]] \n",
    "file=\"Student database\"\n",
    "database= [] \n",
    "def show_database(): \n",
    "    print(\"Id\\tStudent Name\\tMarks\") \n",
    "    print(\"=============================================\") \n",
    "    if len(database)!=0: \n",
    "        for each in database: \n",
    "            print(str(database.index(each)) +\"\\t\"+ each[0] +\"\\t\\t\"+ str(each[1])) \n",
    "            print(\"=============================================\") \n",
    "    else: print(\"There is no data in the database\") \n",
    "def insert(): \n",
    "    name=input(\"Enter a student name\") \n",
    "    marks=input(\"Enter his mark\") \n",
    "    database.append([name, marks]) \n",
    "    print(\"Student data added successfully\") \n",
    "def remove(): \n",
    "    x=int(input(\"which student(ID) info you want delete?\")) \n",
    "    del database[x] \n",
    "    print(\"Student info deleted successfully\") \n",
    "def search(): \n",
    "    x=int(input(\"which student(ID) info do you need?\")) \n",
    "    print(x,\"\\t\", database[x][0],\"\\t\\t\", database[x][1]) \n",
    "def edit(): \n",
    "    i=int(input(\"which(id) student info you want to edit?\")) \n",
    "    s=input(\"please enter the correct name: \") \n",
    "    m=int(input(\"please enter the correct marks: \")) \n",
    "    database[i][0]=s \n",
    "    database[i][1]=m \n",
    "print(\"Student info is updated succesfully\") \n",
    "print(\"Insert a new student: press 1\\n\", \"Show full database: press 2\\n\", \"Edit a student marks: press 3\\n\" ,\"Search a student marks: press 4\\n\",\"Remove a student: press 5\\n\", \"Exit from the system: press 6\") \n",
    "x=int(input(\"Enter an option\")) \n",
    "def save():\n",
    "    f1=open(\"st.txt\",\"w\")\n",
    "    f1.write(str(insert()))\n",
    "    f1.close()\n",
    "\n",
    "    for i in database:\n",
    "        \n",
    "\n",
    "while(True): \n",
    "        if(x==1): \n",
    "            insert() \n",
    "            x=int(input(\"Enter an option\")) \n",
    "        elif(x==2): \n",
    "            show_database() \n",
    "            x=int(input(\"Enter an option\")) \n",
    "        elif(x==3): \n",
    "            edit() \n",
    "            x=int(input(\"Enter an option\")) \n",
    "        elif(x==4): \n",
    "            search() \n",
    "            x=int(input(\"Enter an option\")) \n",
    "        elif(x==5): \n",
    "            remove() \n",
    "            x=int(input(\"Enter an option\")) \n",
    "        elif(x==6): \n",
    "            break \n",
    "        else: \n",
    "            print(\"Invalid option\") \n",
    "            x=int(input(\"Enter an option\"))\n"
   ]
  },
  {
   "cell_type": "code",
   "execution_count": null,
   "id": "f89a704c-ee06-42f8-ad1b-ef196ce03e1c",
   "metadata": {},
   "outputs": [],
   "source": []
  }
 ],
 "metadata": {
  "kernelspec": {
   "display_name": "Python 3 (ipykernel)",
   "language": "python",
   "name": "python3"
  },
  "language_info": {
   "codemirror_mode": {
    "name": "ipython",
    "version": 3
   },
   "file_extension": ".py",
   "mimetype": "text/x-python",
   "name": "python",
   "nbconvert_exporter": "python",
   "pygments_lexer": "ipython3",
   "version": "3.12.4"
  }
 },
 "nbformat": 4,
 "nbformat_minor": 5
}
